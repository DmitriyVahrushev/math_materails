{
 "cells": [
  {
   "cell_type": "markdown",
   "metadata": {},
   "source": [
    "# Задание 1"
   ]
  },
  {
   "cell_type": "code",
   "execution_count": null,
   "metadata": {},
   "outputs": [],
   "source": [
    "%matplotlib inline\n",
    "import matplotlib.pyplot as plt\n",
    "import seaborn as sns\n",
    "import pandas as pd\n",
    "import numpy as np\n",
    "import scipy.special\n",
    "import math"
   ]
  },
  {
   "cell_type": "code",
   "execution_count": 3,
   "metadata": {},
   "outputs": [
    {
     "data": {
      "text/html": [
       "<div>\n",
       "<style scoped>\n",
       "    .dataframe tbody tr th:only-of-type {\n",
       "        vertical-align: middle;\n",
       "    }\n",
       "\n",
       "    .dataframe tbody tr th {\n",
       "        vertical-align: top;\n",
       "    }\n",
       "\n",
       "    .dataframe thead th {\n",
       "        text-align: right;\n",
       "    }\n",
       "</style>\n",
       "<table border=\"1\" class=\"dataframe\">\n",
       "  <thead>\n",
       "    <tr style=\"text-align: right;\">\n",
       "      <th></th>\n",
       "      <th>X</th>\n",
       "    </tr>\n",
       "  </thead>\n",
       "  <tbody>\n",
       "    <tr>\n",
       "      <th>0</th>\n",
       "      <td>0.525088</td>\n",
       "    </tr>\n",
       "    <tr>\n",
       "      <th>1</th>\n",
       "      <td>1.104669</td>\n",
       "    </tr>\n",
       "    <tr>\n",
       "      <th>2</th>\n",
       "      <td>2.226654</td>\n",
       "    </tr>\n",
       "    <tr>\n",
       "      <th>3</th>\n",
       "      <td>2.636846</td>\n",
       "    </tr>\n",
       "    <tr>\n",
       "      <th>4</th>\n",
       "      <td>2.425328</td>\n",
       "    </tr>\n",
       "  </tbody>\n",
       "</table>\n",
       "</div>"
      ],
      "text/plain": [
       "          X\n",
       "0  0.525088\n",
       "1  1.104669\n",
       "2  2.226654\n",
       "3  2.636846\n",
       "4  2.425328"
      ]
     },
     "execution_count": 3,
     "metadata": {},
     "output_type": "execute_result"
    }
   ],
   "source": [
    "data_z1 = pd.read_csv(\"data/r2z1.csv\")\n",
    "data_z2 = pd.read_csv(\"data/r2z2.csv\")\n",
    "data_z2.head()"
   ]
  },
  {
   "cell_type": "code",
   "execution_count": 6,
   "metadata": {},
   "outputs": [],
   "source": [
    "p0 = 0.2\n",
    "alpha = 0.05\n",
    "n = len(data_z1.index)"
   ]
  },
  {
   "cell_type": "code",
   "execution_count": 9,
   "metadata": {},
   "outputs": [
    {
     "data": {
      "text/plain": [
       "15"
      ]
     },
     "execution_count": 9,
     "metadata": {},
     "output_type": "execute_result"
    }
   ],
   "source": [
    "set_X = \"A\"\n",
    "data_z1[\"indicator\"] = data_z1[\"X\"].apply(lambda x: 1 if x == set_X else 0)\n",
    "M = sum(data_z1[\"indicator\"])\n",
    "M"
   ]
  },
  {
   "cell_type": "code",
   "execution_count": 11,
   "metadata": {},
   "outputs": [],
   "source": [
    "def Fbin(x, n, p):\n",
    "    y = 0\n",
    "    for k in range(math.floor(x)+1):\n",
    "        y += scipy.special.comb(n, k)*(p**k)*(1-p)**(n-k)\n",
    "    return y"
   ]
  },
  {
   "cell_type": "code",
   "execution_count": 12,
   "metadata": {},
   "outputs": [
    {
     "data": {
      "text/plain": [
       "8"
      ]
     },
     "execution_count": 12,
     "metadata": {},
     "output_type": "execute_result"
    }
   ],
   "source": [
    "potential_crit_C = np.arange(0, 100, 1)\n",
    "C_crit_const = [C for C in potential_crit_C if Fbin(C, n, p0) <= alpha ]\n",
    "C_crit = np.max(C_crit_const)\n",
    "C_crit"
   ]
  },
  {
   "cell_type": "code",
   "execution_count": 13,
   "metadata": {},
   "outputs": [
    {
     "data": {
      "text/plain": [
       "0.6593302400391768"
      ]
     },
     "execution_count": 13,
     "metadata": {},
     "output_type": "execute_result"
    }
   ],
   "source": [
    "pvalue = Fbin(M, n, p0)\n",
    "pvalue"
   ]
  },
  {
   "cell_type": "code",
   "execution_count": 15,
   "metadata": {},
   "outputs": [
    {
     "data": {
      "text/plain": [
       "(-20.5, 1.0414019304757923e-06)"
      ]
     },
     "execution_count": 15,
     "metadata": {},
     "output_type": "execute_result"
    }
   ],
   "source": [
    "from statsmodels.stats.descriptivestats import sign_test\n",
    "sign_test(data_z1[\"indicator\"], p0)"
   ]
  },
  {
   "cell_type": "markdown",
   "metadata": {},
   "source": [
    "# Задание 2"
   ]
  },
  {
   "cell_type": "code",
   "execution_count": 16,
   "metadata": {},
   "outputs": [],
   "source": [
    "def Fcolm(t):\n",
    "    return 1 - 2*math.exp(-2*t*t)"
   ]
  },
  {
   "cell_type": "code",
   "execution_count": 17,
   "metadata": {},
   "outputs": [],
   "source": [
    "def ExpDist(x):\n",
    "    return 1 - math.exp(-0.5*x) if x>= 0 else 0"
   ]
  },
  {
   "cell_type": "code",
   "execution_count": 22,
   "metadata": {},
   "outputs": [],
   "source": [
    "lambda_ = 0.5\n",
    "alpha = 0.1"
   ]
  },
  {
   "cell_type": "code",
   "execution_count": 21,
   "metadata": {},
   "outputs": [
    {
     "data": {
      "text/plain": [
       "<matplotlib.axes._subplots.AxesSubplot at 0x7fbe1dd94358>"
      ]
     },
     "execution_count": 21,
     "metadata": {},
     "output_type": "execute_result"
    },
    {
     "data": {
      "image/png": "[encoded data removed]",
      "text/plain": [
       "<Figure size 432x288 with 1 Axes>"
      ]
     },
     "metadata": {
      "needs_background": "light"
     },
     "output_type": "display_data"
    }
   ],
   "source": [
    "X_col = data_z2[\"X\"]\n",
    "X_col = sorted(X_col)\n",
    "#Эмпирическая функция распределения\n",
    "def f2(z):\n",
    "    t = 0\n",
    "    for i in X_col:\n",
    "        if i < z:\n",
    "            t += 1\n",
    "    return t/len(X_col)\n",
    "data_z2[\"f_vals2\"] = data_z2[\"X\"].apply(f2)\n",
    "data_z2[\"f_vals3\"] = data_z2[\"X\"].apply(ExpDist)\n",
    "sns.lineplot(data_z2[\"X\"],data_z2[\"f_vals3\"])\n",
    "sns.lineplot(data_z2[\"X\"],data_z2[\"f_vals2\"], drawstyle='steps-pre')"
   ]
  },
  {
   "cell_type": "code",
   "execution_count": 25,
   "metadata": {},
   "outputs": [
    {
     "name": "stdout",
     "output_type": "stream",
     "text": [
      "KstestResult(statistic=0.3888581222187135, pvalue=1.3949288371330276e-13)\n",
      "p < 0:01 — высоко значимое расхождение с гипотезой;\n"
     ]
    }
   ],
   "source": [
    "from scipy.stats import kstest\n",
    "\n",
    "loc = 0\n",
    "scale =1/1.5\n",
    "print(kstest(data_z2['X'], \"expon\", args=(0, (1/1.5))))\n",
    "print('p < 0:01 — высоко значимое расхождение с гипотезой;')"
   ]
  },
  {
   "cell_type": "code",
   "execution_count": 27,
   "metadata": {},
   "outputs": [
    {
     "data": {
      "image/png": "[encoded data removed]",
      "text/plain": [
       "<Figure size 432x288 with 1 Axes>"
      ]
     },
     "metadata": {
      "needs_background": "light"
     },
     "output_type": "display_data"
    }
   ],
   "source": [
    "import scipy.stats as scp\n",
    "x = sns.distplot(data_z2['X'],bins = 20, kde=True)"
   ]
  },
  {
   "cell_type": "code",
   "execution_count": 31,
   "metadata": {},
   "outputs": [
    {
     "name": "stdout",
     "output_type": "stream",
     "text": [
      "\n",
      "KS-statistic D = 0.3888581222187135 p-value =  1.3949288371330276e-13\n",
      "\n",
      "Fkolm^(-1)(1 - alpha) =  1.2238734153404083\n",
      "3.8100159270906646  >  1.2238734153404083\n",
      "Н0 отклоняется\n"
     ]
    }
   ],
   "source": [
    "D, p_value = kstest(data_z2['X'], 'expon', args = (0, (1/1.5)))\n",
    "print('\\nKS-statistic D =', D, 'p-value = ', p_value)\n",
    "\n",
    "quant = math.sqrt((-1/2*math.log(alpha/2, math.e)))\n",
    "print('\\nFkolm^(-1)(1 - alpha) = ',quant)\n",
    "\n",
    "if math.sqrt(len(data_z2))*D > quant:\n",
    "    print(math.sqrt(len(data_z2))*D, ' > ', quant)\n",
    "    print('Н0 отклоняется')"
   ]
  },
  {
   "cell_type": "code",
   "execution_count": null,
   "metadata": {},
   "outputs": [],
   "source": []
  }
 ],
 "metadata": {
  "kernelspec": {
   "display_name": "Python 3",
   "language": "python",
   "name": "python3"
  },
  "language_info": {
   "codemirror_mode": {
    "name": "ipython",
    "version": 3
   },
   "file_extension": ".py",
   "mimetype": "text/x-python",
   "name": "python",
   "nbconvert_exporter": "python",
   "pygments_lexer": "ipython3",
   "version": "3.7.3"
  }
 },
 "nbformat": 4,
 "nbformat_minor": 2
}
